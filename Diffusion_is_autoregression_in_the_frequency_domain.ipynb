{
  "nbformat": 4,
  "nbformat_minor": 0,
  "metadata": {
    "colab": {
      "provenance": [],
      "toc_visible": true
    },
    "kernelspec": {
      "name": "python3",
      "display_name": "Python 3"
    },
    "language_info": {
      "name": "python"
    }
  },
  "cells": [
    {
      "cell_type": "markdown",
      "source": [
        "Diffusion is autoregression in the frequency domain？\n",
        "\n",
        "[EEML'24] Sander Dieleman - Generative modelling through iterative refinement      \n",
        "“diffusion is(approximate) spectral autoregressive”  [42:55](https://www.youtube.com/watch?v=9BHQvQlsVdE&list=WL&index=3&t=11s)"
      ],
      "metadata": {
        "id": "lMKQyLV1M-_K"
      }
    },
    {
      "cell_type": "code",
      "source": [],
      "metadata": {
        "id": "KKhMtvEiNFye"
      },
      "execution_count": null,
      "outputs": []
    },
    {
      "cell_type": "code",
      "source": [],
      "metadata": {
        "id": "HLqZZHaqOPDh"
      },
      "execution_count": null,
      "outputs": []
    }
  ]
}